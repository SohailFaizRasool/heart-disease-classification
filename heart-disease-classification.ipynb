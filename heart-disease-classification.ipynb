{
 "cells": [
  {
   "cell_type": "markdown",
   "id": "8a37e3dd-e21a-4912-b088-205cc7eb3e75",
   "metadata": {},
   "source": [
    "## Predicting heart disease using machine learning\n",
    "\n",
    "we are going to take the following approches\n",
    "1. Problem defination\n",
    "2. Data\n",
    "3. Evaluation\n",
    "4. features\n",
    "5. Modelling\n",
    "6. Experimentation\n",
    "\n",
    "### Problem Defination\n",
    "In a statement,\n",
    "> Given clinical parameters about a patient, can we predict whether or not ther have heart disease?\n",
    "\n"
   ]
  },
  {
   "cell_type": "markdown",
   "id": "fa321bc4-4b03-423c-b974-51988d6f2cae",
   "metadata": {},
   "source": [
    "## prepating tools\n",
    "pandas, Matplotlib and numpy"
   ]
  },
  {
   "cell_type": "code",
   "execution_count": 16,
   "id": "e64d6df3-123c-4012-8aa2-6437f28544ec",
   "metadata": {},
   "outputs": [],
   "source": [
    "# Import all the tools we need\n",
    "import numpy as np\n",
    "import pandas as pd\n",
    "import matplotlib.pyplot as plt\n",
    "import seaborn as sns\n",
    "\n",
    "# we want out plots to apear inside the notebook\n",
    "%matplotlib inline \n",
    "\n",
    "# Models from Scikit-Learn\n",
    "from sklearn.linear_model import LogisticRegression\n",
    "from sklearn.neighbors import KNeighborsClassifier\n",
    "from sklearn.ensemble import RandomForestClassifier\n",
    "\n",
    "# Model Evaluations\n",
    "from sklearn.model_selection import train_test_split, cross_val_score\n",
    "from sklearn.model_selection import RandomizedSearchCV, GridSearchCV\n",
    "from sklearn.metrics import confusion_matrix, classification_report\n",
    "from sklearn.metrics import precision_score, recall_score, f1_score\n",
    "from sklearn.metrics import roc_curve"
   ]
  }
 ],
 "metadata": {
  "kernelspec": {
   "display_name": "Python 3 (ipykernel)",
   "language": "python",
   "name": "python3"
  },
  "language_info": {
   "codemirror_mode": {
    "name": "ipython",
    "version": 3
   },
   "file_extension": ".py",
   "mimetype": "text/x-python",
   "name": "python",
   "nbconvert_exporter": "python",
   "pygments_lexer": "ipython3",
   "version": "3.12.4"
  }
 },
 "nbformat": 4,
 "nbformat_minor": 5
}
